{
 "cells": [
  {
   "cell_type": "code",
   "execution_count": 4,
   "metadata": {},
   "outputs": [
    {
     "name": "stdout",
     "output_type": "stream",
     "text": [
      "       sat_minut  osvetljenje  stepen_povrede  postanski_broj_opstine\n",
      "59859        655            1               4                     113\n",
      "6013        1530            1               1                     103\n",
      "41419       1635            1               1                      19\n",
      "16485       2015            3               3                     160\n",
      "36315       1500            1               3                      25\n"
     ]
    }
   ],
   "source": [
    "import pandas as pd\n",
    "import numpy as np\n",
    "import matplotlib.pyplot as plt\n",
    "from sklearn.preprocessing import MinMaxScaler\n",
    "from sklearn.cluster import AgglomerativeClustering\n",
    "from sklearn.metrics import silhouette_score\n",
    "\n",
    "from sklearn.preprocessing import LabelBinarizer\n",
    "import sklearn.preprocessing as prep\n",
    "import sklearn.metrics as metrics\n",
    "\n",
    "#Ucitavamo podatke.\n",
    "df = pd.read_csv('./to_je_to.csv')\n",
    "\n",
    "#Zbog memorijske slozenosti, morali smo da uzmemo uzorak od 12000 redova,\n",
    "#jer ukoliko pustimo algoritam nad svim redovima, ne moze da radi.\n",
    "df = df.sample(n=15000)\n",
    "\n",
    "#izdvajamo bitne kolone:\n",
    "bitne = df[['sat_minut', 'osvetljenje', 'stepen_povrede', 'postanski_broj_opstine']]\n",
    "print(bitne.head())"
   ]
  },
  {
   "cell_type": "code",
   "execution_count": 5,
   "metadata": {},
   "outputs": [
    {
     "name": "stdout",
     "output_type": "stream",
     "text": [
      "   1  2  3  4  1  2  3  4  5  sat_minut  postanski_broj_opstine\n",
      "0  0  0  0  1  1  0  0  0  0   0.277354                0.121607\n",
      "1  1  0  0  0  1  0  0  0  0   0.648431                0.110749\n",
      "2  1  0  0  0  1  0  0  0  0   0.692960                0.019544\n",
      "3  0  0  1  0  0  0  1  0  0   0.854114                0.172638\n",
      "4  0  0  1  0  1  0  0  0  0   0.635708                0.026059\n"
     ]
    }
   ],
   "source": [
    "#Posto je osvetljenje kategoricki tip podatka, sa njim ne mozemo da radimo tako, nego mroamo da \n",
    "#ga binarizujemo.\n",
    "lb = LabelBinarizer()\n",
    "lb_osvetljenje = lb.fit_transform(bitne[\"osvetljenje\"])\n",
    "\n",
    "#U ovom delu koda, sve kolone koje ne treba da se binarizuju skaliramo na vrednost izmedju 0 i 1\n",
    "\n",
    "scaler = prep.MinMaxScaler().fit(bitne[['sat_minut', 'postanski_broj_opstine']])\n",
    "x = pd.DataFrame(scaler.transform(bitne[['sat_minut', 'postanski_broj_opstine']]))\n",
    "x.columns = [\"sat_minut\", \"postanski_broj_opstine\"]\n",
    "\n",
    "#Spajamo skalirane kolone sa binarizovanim Osvetljenjem (kolonom osvetljenje koja se \n",
    "#prosirila na 4 kolone)\n",
    "tmp = pd.concat([pd.DataFrame(lb_osvetljenje, columns = lb.classes_), x], axis = 1)\n",
    "\n",
    "\n",
    "#binarizujemo kolonu stepen povrede\n",
    "lb2 = LabelBinarizer()\n",
    "lb_stepen_povrede = lb2.fit_transform(bitne[\"stepen_povrede\"])\n",
    "\n",
    "#Pomocu pd.concat spajamo i stepen_povrede sa ostalim kolonama\n",
    "n_df = pd.concat([pd.DataFrame(lb_stepen_povrede, columns = lb2.classes_), tmp], axis = 1)\n",
    "\n",
    "#radi provere printamo prvih pet redova.\n",
    "print(n_df.head())"
   ]
  },
  {
   "cell_type": "code",
   "execution_count": 7,
   "metadata": {},
   "outputs": [
    {
     "ename": "ModuleNotFoundError",
     "evalue": "No module named 'hcluster'",
     "output_type": "error",
     "traceback": [
      "\u001b[0;31m---------------------------------------------------------------------------\u001b[0m",
      "\u001b[0;31mModuleNotFoundError\u001b[0m                       Traceback (most recent call last)",
      "\u001b[0;32m<ipython-input-7-ce98ceeba124>\u001b[0m in \u001b[0;36m<module>\u001b[0;34m\u001b[0m\n\u001b[0;32m----> 1\u001b[0;31m \u001b[0;32mfrom\u001b[0m \u001b[0mhcluster\u001b[0m \u001b[0;32mimport\u001b[0m \u001b[0mpdist\u001b[0m\u001b[0;34m,\u001b[0m \u001b[0mlinkage\u001b[0m\u001b[0;34m,\u001b[0m \u001b[0mdendrogram\u001b[0m\u001b[0;34m\u001b[0m\u001b[0;34m\u001b[0m\u001b[0m\n\u001b[0m\u001b[1;32m      2\u001b[0m \u001b[0;31m#Zbog lepseg iscrtavanja napravio sam dve petlje a ne petlju u petlji.\u001b[0m\u001b[0;34m\u001b[0m\u001b[0;34m\u001b[0m\u001b[0;34m\u001b[0m\u001b[0m\n\u001b[1;32m      3\u001b[0m \u001b[0;31m#iz nekog razloga kada je petlja u petlji, nece da iscrtava kako treba.\u001b[0m\u001b[0;34m\u001b[0m\u001b[0;34m\u001b[0m\u001b[0;34m\u001b[0m\u001b[0m\n\u001b[1;32m      4\u001b[0m \u001b[0;34m\u001b[0m\u001b[0m\n\u001b[1;32m      5\u001b[0m \u001b[0;31m#algoritam AgglomerativeClustering prima tri parametra, broj klastera za koji smo stavili\u001b[0m\u001b[0;34m\u001b[0m\u001b[0;34m\u001b[0m\u001b[0;34m\u001b[0m\u001b[0m\n",
      "\u001b[0;31mModuleNotFoundError\u001b[0m: No module named 'hcluster'"
     ]
    }
   ],
   "source": [
    "from hcluster import pdist, linkage, dendrogram\n",
    "#Zbog lepseg iscrtavanja napravio sam dve petlje a ne petlju u petlji.\n",
    "#iz nekog razloga kada je petlja u petlji, nece da iscrtava kako treba.\n",
    "\n",
    "#algoritam AgglomerativeClustering prima tri parametra, broj klastera za koji smo stavili\n",
    "#da uvek bude 3, linkage koji moze da bude ['complete', 'average', 'single']\n",
    "#i affinity gde smo postavjlali manhattan i euclidean\n",
    "#dakle, 6 puta je uradjen pomenuti algoritam, i svaki plt je uredno zapamcen,\n",
    "#bice koriscen u PDF dokumentaciji.\n",
    "plt_ind=1\n",
    "# fig = plt.figure(figsize=(8,6))\n",
    "# for link in ['complete', 'average', 'single']:\n",
    "# #     est = AgglomerativeClustering(n_clusters=3, linkage= link, affinity= 'manhattan')\n",
    "#     est.fit(x)\n",
    "#     df['labels'] = est.labels_\n",
    "#     print('link', link, 'affinity', 'manhattan', 'n of clusters', 3, 'silhouette', silhouette_score(x, est.labels_))\n",
    "#     sp =fig.add_subplot(2,2,plt_ind)\n",
    "#     for j in range(0, 3):\n",
    "#         cluster = df.loc[df['labels'] == j]\n",
    "#         plt.scatter(cluster['labels'], cluster['sat_minut'])\n",
    "#     plt.title('linkage' + ' ' + link + ' ' + 'affinity' + ' ' + 'manhattan')\n",
    "#     plt.tight_layout()\n",
    "#     fig.savefig(link + 'manhattan'+\".png\")\n",
    "#     plt_ind+=1\n",
    "\n",
    "\n",
    "plt_ind=1\n",
    "fig = plt.figure(figsize=(8,6))\n",
    "# for link in ['complete', 'average', 'single']:\n",
    "#     est = AgglomerativeClustering(n_clusters=3, linkage= link, affinity= 'euclidean')\n",
    "#     est.fit(x)\n",
    "#     df['labels'] = est.labels_\n",
    "#     print('link', link, 'affinity', 'euclidean', 'n of clusters', 3, 'silhouette', silhouette_score(x, est.labels_))\n",
    "#     sp =fig.add_subplot(2,2,plt_ind)\n",
    "#     for j in range(0, 3):\n",
    "#         cluster = df.loc[df['labels'] == j]\n",
    "#         plt.scatter(cluster['labels'], cluster['sat_minut'])\n",
    "#     plt.title('linkage' + ' ' + link + ' ' + 'affinity' + ' ' + 'euclidean')\n",
    "#     plt.tight_layout()\n",
    "#     fig.savefig(link + 'euclidean'+\".png\")\n",
    "#     plt_ind+=1\n",
    "\n",
    "X = df.T.values #Transpose values \n",
    "Y = pdist(X)\n",
    "Z = linkage(Y)\n",
    "dendrogram(Z, labels = df.columns)"
   ]
  },
  {
   "cell_type": "code",
   "execution_count": null,
   "metadata": {},
   "outputs": [],
   "source": []
  }
 ],
 "metadata": {
  "kernelspec": {
   "display_name": "Python 3",
   "language": "python",
   "name": "python3"
  },
  "language_info": {
   "codemirror_mode": {
    "name": "ipython",
    "version": 3
   },
   "file_extension": ".py",
   "mimetype": "text/x-python",
   "name": "python",
   "nbconvert_exporter": "python",
   "pygments_lexer": "ipython3",
   "version": "3.6.7"
  }
 },
 "nbformat": 4,
 "nbformat_minor": 2
}
