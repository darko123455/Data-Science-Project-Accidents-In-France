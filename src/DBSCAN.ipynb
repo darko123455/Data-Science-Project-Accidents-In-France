{
 "cells": [
  {
   "cell_type": "code",
   "execution_count": 1,
   "metadata": {},
   "outputs": [
    {
     "name": "stdout",
     "output_type": "stream",
     "text": [
      "   sat_minut  osvetljenje  stepen_povrede  postanski_broj_opstine\n",
      "0       1120            1               2                     545\n",
      "1       1930            3               3                     206\n",
      "2       1930            3               1                     206\n",
      "3        700            3               3                     203\n",
      "4        700            3               3                     203\n"
     ]
    }
   ],
   "source": [
    "import pandas as pd\n",
    "import numpy as np\n",
    "import matplotlib.pyplot as plt\n",
    "from sklearn.preprocessing import MinMaxScaler\n",
    "from sklearn.cluster import DBSCAN\n",
    "from sklearn.metrics import silhouette_score\n",
    "\n",
    "from sklearn.preprocessing import LabelBinarizer\n",
    "import sklearn.preprocessing as prep\n",
    "import sklearn.metrics as metrics\n",
    "\n",
    "#Ucitavamo CSV file koji je skroz sredjen, obradjen.\n",
    "df = pd.read_csv('./to_je_to.csv', encoding = \"ISO-8859-1\")\n",
    "\n",
    "#izdvajamo kolone koje su nam bitne, od znacaja.\n",
    "bitne = df[['sat_minut', 'osvetljenje', 'stepen_povrede', 'postanski_broj_opstine']]\n",
    "\n",
    "#Radi provere, printamo prvih 5 redova tih kolona.\n",
    "print(bitne.head())\n"
   ]
  },
  {
   "cell_type": "code",
   "execution_count": 2,
   "metadata": {},
   "outputs": [
    {
     "name": "stdout",
     "output_type": "stream",
     "text": [
      "   1  2  3  4  1  2  3  4  5  sat_minut  postanski_broj_opstine\n",
      "0  0  1  0  0  1  0  0  0  0   0.474555                0.590662\n",
      "1  0  0  1  0  0  0  1  0  0   0.818066                0.222584\n",
      "2  1  0  0  0  0  0  1  0  0   0.818066                0.222584\n",
      "3  0  0  1  0  0  0  1  0  0   0.296438                0.219327\n",
      "4  0  0  1  0  0  0  1  0  0   0.296438                0.219327\n"
     ]
    }
   ],
   "source": [
    "#Posto je osvetljenje kategoricki tip podatka, sa njim ne mozemo da radimo tako, nego mroamo da \n",
    "#ga binarizujemo.\n",
    "\n",
    "lb = LabelBinarizer()\n",
    "lb_osvetljenje = lb.fit_transform(bitne[\"osvetljenje\"])\n",
    "\n",
    "                                                                                                                                                                                                                                                                                                                                                                                                                                                                                                                                                                                                                                                                                                                                                                                                                                                                                                                                                                                                                                                                                                                                                                                                                                                                                                                                                                                                                                                                                                                                                                                                                                                                                                                                                                                                                                                                                                                                                                                                                                                                                                                                                                                                                                                                                                                                                                                                                                                                                                                                                                                                                                                                                                                                                                                                                                                                                                                                                                                                                                                                                                                                                                                                                                                                                                                                                                                                                                                                                                                                                                                                                                                                                                                                                                                                                                                                                                                                                                                                                                                                                                                                                                                                                                                                                                                                                                                                                                                                                                                                                                                                                                                                                                                                                                                                                                                                                                                                                                                                                                                                                                                                                                                                                                                                                                                                                                                                                                                                                                                                                                                                                                                                                                                                                                                                                                                                                                                                                                                                                                                                                                                                                                                                                                                                                                                                                                                                                                                                                                                                                                                                                                                                                                                                                                                                                                                                                                                                                                                                                                                                                                                                                                                                                                                                                                                                                                                                                                                                                                                                                                                                                                                                                                                                                                                                                                                                                                                                                                                                                                                                                                                                                                                                                                                                                                                                                                                                                                                                                                                                                                                                                                                                                                                                                                                                                                                                                                                                                                                                                                                                                                                                                                                                                                                                                                                                                                                                                                                                                                                                                                                                                                                                                                                                                                                                                                                                                                                                                                                                                                                                                                                                                                                                                                                                                                                                                                                                                                                                                                                                                                                                                                                                                                                                                                                                                                                                                                                                                                                                                                                                                                                                                                                                                                                                                                                                                                                                                                                                                                                                                                                                                                                                                                                                                                                                                                                                                                                                                                                                                                                                                                                                                                                                                                                                                                                                                                                                                                                                                                                                                                                                                                                                                                                                                                                                                                                                                                                                                                                                                                                                                                                                                                                                                                                                                                                                                                                                                                                                                                                                                                                                                                                                                                                                                                                                                                                                                                                                                                                                                                                                                                                                                                                                                                                                                                                                                                                                                                                                                                                                                                                                                                                                                                                                                                                                                                                                                                                                                                                                                                                                                                                                                                                                                                                                                                                                                                                                                                                                                                                                                                                                                                                                                                                                                                                                                                                                                                                                                                                                                                                                                                                                                                                                                                                                                                                                                                                                                                                                                                                                                                                                                                                                                                                                                                                                                                                                                                                                                                                                                                                                                                                                                                                                                                                                                                                                                                                                                                                                                                                                                                                                                                                                                                                                                                                                                                                                                                                                                                                                                                                                                                                                                                                                                                                                                    \n",
    "scaler = prep.MinMaxScaler().fit(bitne[['sat_minut', 'postanski_broj_opstine']])\n",
    "#U ovom delu koda, sve kolone koje ne treba da se binarizuju skaliramo na vrednost izmedju 0 i 1\n",
    "x = pd.DataFrame(scaler.transform(bitne[['sat_minut', 'postanski_broj_opstine']]))\n",
    "x.columns = [\"sat_minut\", \"postanski_broj_opstine\"]\n",
    "\n",
    "\n",
    "#Spajamo skalirane kolone sa binarizovanim Osvetljenjem (kolonom osvetljenje koja se \n",
    "#prosirila na 4 kolone)\n",
    "tmp = pd.concat([pd.DataFrame(lb_osvetljenje, columns = lb.classes_), x], axis = 1)\n",
    "\n",
    "#binarizujemo kolonu stepen povrede\n",
    "lb2 = LabelBinarizer()\n",
    "lb_stepen_povrede = lb2.fit_transform(bitne[\"stepen_povrede\"])\n",
    "\n",
    "#Pomocu pd.concat spajamo i stepen_povrede sa ostalim kolonama\n",
    "n_df = pd.concat([pd.DataFrame(lb_stepen_povrede, columns = lb2.classes_), tmp], axis = 1)\n",
    "\n",
    "\n",
    "#radi provere printamo prvih pet redova.\n",
    "print(n_df.head())"
   ]
  },
  {
   "cell_type": "code",
   "execution_count": null,
   "metadata": {},
   "outputs": [],
   "source": [
    "#Algoritam DBSCAN prima dva argumenta, epsilon i min_samples,\n",
    "#mi cemo u for petlji tri puta pokrenuti pomenuti algoritam, sa razlicitim epsilon parametrima.\n",
    "for eps in [0.048, 0.044, 0.046]:\n",
    "    estDbscan = DBSCAN(eps = eps, min_samples = 100)\n",
    "    estDbscan.fit(n_df)\n",
    "    n_df['labels'] = estDbscan.labels_    \n",
    "    num_clusters = len(n_df['labels'].unique())\n",
    "   \t#ispisujemo broj klastera, senka koeficijent i epsilon \n",
    "    print(\"Broj klastera: %d\" % num_clusters)\n",
    "    print(\"Senka koeficijent: %f \" % silhouette_score(n_df, estDbscan.labels_))\n",
    "    print(\"epsilon: %f \" % eps)\n",
    "    print()\n",
    "\n",
    "    #crtamo figuru, odnosno dijagram za svaki odradjen DBSCAN algoritam. \n",
    "    fig = plt.figure(figsize=(9,7))\n",
    "    for j in range(-1,num_clusters):\n",
    "    \tcluster = n_df.loc[n_df['labels'] == j]\n",
    "    \tplt.scatter(cluster['labels'], cluster['sat_minut'], color = 'blue')\n",
    "    plt.xlabel(\"Klaster\", fontsize = 20)\n",
    "    plt.ylabel(\"sat_minut\", fontsize = 20)\n",
    "    plt.title(\"Nesrece po klasterima\", fontsize = 30)\n",
    "    plt.tight_layout()\n",
    "    fig.savefig(\"nesrece_klaster\" + str(eps) + \".png\")\n",
    "\n"
   ]
  }
 ],
 "metadata": {
  "kernelspec": {
   "display_name": "Python 3",
   "language": "python",
   "name": "python3"
  },
  "language_info": {
   "codemirror_mode": {
    "name": "ipython",
    "version": 3
   },
   "file_extension": ".py",
   "mimetype": "text/x-python",
   "name": "python",
   "nbconvert_exporter": "python",
   "pygments_lexer": "ipython3",
   "version": "3.6.7"
  }
 },
 "nbformat": 4,
 "nbformat_minor": 2
}
